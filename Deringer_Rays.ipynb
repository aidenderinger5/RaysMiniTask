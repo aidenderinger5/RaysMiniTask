{
  "nbformat": 4,
  "nbformat_minor": 0,
  "metadata": {
    "colab": {
      "provenance": []
    },
    "kernelspec": {
      "name": "python3",
      "display_name": "Python 3"
    },
    "language_info": {
      "name": "python"
    }
  },
  "cells": [
    {
      "cell_type": "markdown",
      "source": [
        "Analysis of problem:\n",
        "\n",
        "Goal:\n",
        "\n",
        "Find an off ball speed prediction from the given variables\n",
        "speed_A (more reliable than b (note \"quirks\"))\n",
        "speed_B (less reliable) (find relationship between these 2)\n",
        "\n",
        "---\n",
        "\n",
        "\n",
        "vangle_A (launch angle from system A)\n",
        "vangle_B (launch angle from system B)\n",
        "\n"
      ],
      "metadata": {
        "id": "w3Hv1_I48R9j"
      }
    },
    {
      "cell_type": "code",
      "execution_count": null,
      "metadata": {
        "id": "VAZRRYNK7n7U"
      },
      "outputs": [],
      "source": [
        "import numpy as np\n",
        "import pandas as pd\n",
        "import statsmodels.formula.api as smf\n",
        "from sklearn.linear_model import LinearRegression"
      ]
    },
    {
      "cell_type": "code",
      "source": [
        "battedBalls = pd.read_csv('battedBallData.csv')"
      ],
      "metadata": {
        "id": "Xi9wGfVi7yl0"
      },
      "execution_count": null,
      "outputs": []
    },
    {
      "cell_type": "code",
      "source": [
        "battedBalls['combineVangles'] = battedBalls['vangle_A'].fillna(battedBalls['vangle_B'])\n",
        "inconsistent = battedBalls[\n",
        "    ((battedBalls['hittype']== 'ground_ball') & (battedBalls['combineVangles']>0)) |\n",
        "    ((battedBalls['hittype'].isin(['fly_ball', 'popup']))&(battedBalls['combineVangles']<0))]\n",
        "print(f\"{len(inconsistent)}\")\n",
        "battedBallsClean = battedBalls.drop(inconsistent.index)\n",
        "# Some hit angles contradicts with their description. This segment is for filtering out groundouts where the angle for system A or B are positive and fly balls, pop outs is negative\n",
        "# Initially had this lower (a few blocks down), but wanted to get a better RMSE by cleaning beforehand"
      ],
      "metadata": {
        "id": "TvikZ40IOTon"
      },
      "execution_count": null,
      "outputs": []
    },
    {
      "cell_type": "code",
      "source": [
        "model = LinearRegression()\n",
        "combinedSpeeds = battedBallsClean.dropna(subset=['speed_A', 'speed_B'])\n",
        "x = combinedSpeeds[['speed_B']]\n",
        "y = combinedSpeeds['speed_A']\n",
        "model.fit(x, y)\n",
        "reg1 =model.intercept_\n",
        "reg2 = model.coef_[0]\n",
        "print(reg1, reg2)"
      ],
      "metadata": {
        "id": "yQxfQW6h-J16"
      },
      "execution_count": null,
      "outputs": []
    },
    {
      "cell_type": "markdown",
      "source": [
        "speed_A = 40.10171042427472  + 0.60957283656058 * speed_B"
      ],
      "metadata": {
        "id": "p67qOibWKgpS"
      }
    },
    {
      "cell_type": "code",
      "source": [
        "error = y - model.predict(x)\n",
        "print(np.sqrt((error**2).mean())) # root mean square deviation\n",
        "rmse = np.sqrt((error**2).mean()) # Close enough to 0 compared to the range for the sake of this task"
      ],
      "metadata": {
        "id": "iAxiAO6uKgbn"
      },
      "execution_count": null,
      "outputs": []
    },
    {
      "cell_type": "code",
      "source": [
        "battedBallsClean['noSpeed_A']= reg1+reg2*battedBallsClean['speed_B'] # Changing the dataset for instances where there is no speed_A but there is a speed_B (Since we found the linear regression model for the speeds)\n",
        "battedBallsClean['allAs'] = battedBallsClean['speed_A'].fillna(battedBallsClean['noSpeed_A']) # Filling missing values of speed_A\n",
        "# battedBalls['combineVangles'] = battedBalls['vangle_A'].fillna(battedBalls['vangle_B']) # Moved higher to calculate RMSE off of \"cleaned\" rows"
      ],
      "metadata": {
        "id": "IiMP3_ePPwh5"
      },
      "execution_count": null,
      "outputs": []
    },
    {
      "cell_type": "code",
      "source": [
        "Predmodel = battedBallsClean.dropna(subset=['allAs', 'combineVangles', 'hittype', 'batter'])"
      ],
      "metadata": {
        "id": "LSxk1P40ZLsD"
      },
      "execution_count": null,
      "outputs": []
    },
    {
      "cell_type": "code",
      "source": [
        "mixedModel = smf.mixedlm('allAs~combineVangles+hittype', Predmodel,groups=Predmodel['batter'])\n",
        "mixedModelEffects = mixedModel.fit()\n",
        "effects = mixedModelEffects.random_effects\n",
        "batterEffects = pd.DataFrame({\n",
        "    'batter': effects.keys(),\n",
        "    'batterEffect': [effect.values[0] for effect in effects.values()]}).reset_index(drop=True)\n",
        "batterIntercept = mixedModelEffects.fe_params['Intercept']\n",
        "batterEffects['Prediction'] = batterIntercept + batterEffects['batterEffect']"
      ],
      "metadata": {
        "id": "sMWUQenAZTbr"
      },
      "execution_count": null,
      "outputs": []
    },
    {
      "cell_type": "code",
      "source": [
        "batterAmt = Predmodel['batter'].value_counts().reset_index()\n",
        "batterAmt.columns = ['batter', 'plays observed']\n",
        "batterEffectsFrame = batterEffects.merge(batterAmt, on='batter') # Creating a dataframe to visualize the predictions"
      ],
      "metadata": {
        "id": "mxNFe0REZweG"
      },
      "execution_count": null,
      "outputs": []
    },
    {
      "cell_type": "code",
      "source": [
        "randomEffectVariance = mixedModelEffects.cov_re.iloc[0, 0]\n",
        "residualVariance = mixedModelEffects.scale\n",
        "shrinkage = randomEffectVariance/(randomEffectVariance + (residualVariance/batterEffectsFrame['plays observed']))\n",
        "shrinkageEffect = shrinkage * batterEffectsFrame['batterEffect']\n",
        "batterEffectsFrame['Prediction'] = batterIntercept + shrinkageEffect # Weighted variance for a given player"
      ],
      "metadata": {
        "id": "ZUDCkQwmZ6Ew"
      },
      "execution_count": null,
      "outputs": []
    },
    {
      "cell_type": "code",
      "source": [
        "projections = batterEffectsFrame.sort_values(by='Prediction')\n",
        "pd.set_option('display.max_rows', None)\n",
        "pd.set_option('display.max_columns', None)\n",
        "projections"
      ],
      "metadata": {
        "id": "qsDDBX2CaFro"
      },
      "execution_count": null,
      "outputs": []
    }
  ]
}
